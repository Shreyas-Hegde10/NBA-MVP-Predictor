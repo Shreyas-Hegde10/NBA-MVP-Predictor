{
 "cells": [
  {
   "cell_type": "code",
   "execution_count": 2,
   "id": "2ee64bda-f628-4834-9cad-3e142a48a225",
   "metadata": {},
   "outputs": [],
   "source": [
    "import requests \n",
    "import time"
   ]
  },
  {
   "cell_type": "code",
   "execution_count": 3,
   "id": "1c2110fc-ab42-414a-9d5e-3e8353e6156a",
   "metadata": {},
   "outputs": [],
   "source": [
    "years = list(range(2007,2025)) \n",
    "url_initial = \"https://www.basketball-reference.com/awards/awards_{}.html\""
   ]
  },
  {
   "cell_type": "code",
   "execution_count": 4,
   "id": "65a34610-9f95-47b5-a22f-cc6d465bfb91",
   "metadata": {},
   "outputs": [],
   "source": [
    "for year in years:\n",
    "    url = url_initial.format(year)\n",
    "    data = requests.get(url)\n",
    "    time.sleep(15)\n",
    "    \n",
    "    with open(\"mvp/{}.html\".format(year), \"w+\", encoding=\"utf-8\") as f:\n",
    "        f.write(data.text)"
   ]
  },
  {
   "cell_type": "code",
   "execution_count": null,
   "id": "0748449d-56a8-4738-8dca-1c083d08841c",
   "metadata": {},
   "outputs": [],
   "source": []
  }
 ],
 "metadata": {
  "kernelspec": {
   "display_name": "Python 3 (ipykernel)",
   "language": "python",
   "name": "python3"
  },
  "language_info": {
   "codemirror_mode": {
    "name": "ipython",
    "version": 3
   },
   "file_extension": ".py",
   "mimetype": "text/x-python",
   "name": "python",
   "nbconvert_exporter": "python",
   "pygments_lexer": "ipython3",
   "version": "3.13.2"
  }
 },
 "nbformat": 4,
 "nbformat_minor": 5
}
